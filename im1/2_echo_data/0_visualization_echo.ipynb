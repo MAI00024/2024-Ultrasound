{
 "cells": [
  {
   "cell_type": "code",
   "execution_count": null,
   "id": "69192b92",
   "metadata": {
    "scrolled": true
   },
   "outputs": [],
   "source": [
    "import os\n",
    "import cv2\n",
    "import matplotlib.pyplot as plt\n",
    "\n",
    "# Directory paths where images and labels are stored\n",
    "image_dir = './Result_region_detect/Result_crop_images'\n",
    "label_dir = './Result_region_detect/Result_echo_updated'\n",
    "\n",
    "# Get all image and label files in the directories\n",
    "image_files = os.listdir(image_dir)\n",
    "label_files = os.listdir(label_dir)\n",
    "\n",
    "# Process each image file and its corresponding label file\n",
    "for index, image_file in enumerate(image_files):\n",
    "    # Uncomment the following lines to visualize only a subset of images\n",
    "    # if index == 5: \n",
    "    #     break\n",
    "    \n",
    "    # Process only jpg and png files\n",
    "    if image_file.endswith(('.jpg', '.png')):\n",
    "        # Generate the corresponding label file name\n",
    "        label_file = os.path.splitext(image_file)[0] + '.txt'\n",
    "        print(label_file)\n",
    "        \n",
    "        # Check if the label file exists\n",
    "        if label_file in label_files:\n",
    "            # Get the full paths of the image and label files\n",
    "            image_path = os.path.join(image_dir, image_file)\n",
    "            label_path = os.path.join(label_dir, label_file)\n",
    "            \n",
    "            # Load the image\n",
    "            image = cv2.imread(image_path)\n",
    "            height, width = image.shape[:2]\n",
    "            \n",
    "            # Read the label file to get bounding box information\n",
    "            with open(label_path, 'r') as file:\n",
    "                for line in file.readlines():\n",
    "                    class_id, x_center, y_center, w, h = map(float, line.strip().split())\n",
    "                    # Convert YOLO format label to image pixel coordinates\n",
    "                    x_min = int((x_center - w / 2) * width)\n",
    "                    y_min = int((y_center - h / 2) * height)\n",
    "                    x_max = int((x_center + w / 2) * width)\n",
    "                    y_max = int((y_center + h / 2) * height)\n",
    "                    \n",
    "                    # Draw the bounding box on the image\n",
    "                    cv2.rectangle(image, (x_min, y_min), (x_max, y_max), (255, 0, 0), 2)\n",
    "            \n",
    "            # Display the image with bounding boxes\n",
    "            plt.imshow(cv2.cvtColor(image, cv2.COLOR_BGR2RGB))\n",
    "            plt.show()\n"
   ]
  },
  {
   "cell_type": "code",
   "execution_count": null,
   "id": "a9c1d216",
   "metadata": {},
   "outputs": [],
   "source": []
  },
  {
   "cell_type": "code",
   "execution_count": null,
   "id": "b0de9f99",
   "metadata": {},
   "outputs": [],
   "source": []
  },
  {
   "cell_type": "code",
   "execution_count": null,
   "id": "a9f2693c",
   "metadata": {},
   "outputs": [],
   "source": []
  },
  {
   "cell_type": "code",
   "execution_count": null,
   "id": "1e9b6ea6",
   "metadata": {},
   "outputs": [],
   "source": []
  }
 ],
 "metadata": {
  "hide_input": false,
  "kernelspec": {
   "display_name": "Python 3 (ipykernel)",
   "language": "python",
   "name": "python3"
  },
  "language_info": {
   "codemirror_mode": {
    "name": "ipython",
    "version": 3
   },
   "file_extension": ".py",
   "mimetype": "text/x-python",
   "name": "python",
   "nbconvert_exporter": "python",
   "pygments_lexer": "ipython3",
   "version": "3.9.18"
  }
 },
 "nbformat": 4,
 "nbformat_minor": 5
}
