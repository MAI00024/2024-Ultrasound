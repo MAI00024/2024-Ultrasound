{
 "cells": [
  {
   "cell_type": "code",
   "execution_count": null,
   "id": "69192b92",
   "metadata": {
    "scrolled": false
   },
   "outputs": [],
   "source": [
    "import os\n",
    "import cv2\n",
    "import matplotlib.pyplot as plt\n",
    "\n",
    "# 이미지와 라벨이 저장된 디렉터리 경로\n",
    "image_dir = './Result_region_detect/Result_crop_images'\n",
    "label_dir = './Result_region_detect/Result_circle_updated'\n",
    "\n",
    "\n",
    "# 디렉터리 내의 모든 이미지 파일과 라벨 파일을 가져옵니다.\n",
    "image_files = os.listdir(image_dir)\n",
    "label_files = os.listdir(label_dir)\n",
    "\n",
    "# 이미지 파일과 라벨 파일을 하나씩 처리합니다.\n",
    "for index, image_file in enumerate(image_files):\n",
    "#     # 일부만 시각화\n",
    "#     if index == 5: \n",
    "#         break\n",
    "    \n",
    "    # 파일의 확장자를 확인하여 jpg 또는 png 파일만 처리합니다.\n",
    "    if image_file.endswith(('.jpg', '.png')):\n",
    "        # 라벨 파일의 이름을 생성합니다. \n",
    "        label_file = os.path.splitext(image_file)[0] + '.txt'        \n",
    "        print(label_file)\n",
    "        \n",
    "        # 라벨 파일이 존재하는지 확인합니다.\n",
    "        if label_file in label_files:\n",
    "            # 이미지와 라벨 파일의 경로를 가져옵니다.\n",
    "            image_path = os.path.join(image_dir, image_file)\n",
    "            label_path = os.path.join(label_dir, label_file)\n",
    "            \n",
    "            # 이미지를 불러옵니다.\n",
    "            image = cv2.imread(image_path)\n",
    "            height, width = image.shape[:2]\n",
    "            \n",
    "            # 라벨 파일을 읽어서 바운딩 박스 정보를 가져옵니다.\n",
    "            with open(label_path, 'r') as file:\n",
    "                for line in file.readlines():\n",
    "                    class_id, x_center, y_center, w, h = map(float, line.strip().split())\n",
    "                    # YOLO 포맷의 라벨을 이미지의 픽셀 좌표로 변환합니다.\n",
    "                    x_min = int((x_center - w / 2) * width)\n",
    "                    y_min = int((y_center - h / 2) * height)\n",
    "                    x_max = int((x_center + w / 2) * width)\n",
    "                    y_max = int((y_center + h / 2) * height)\n",
    "                    \n",
    "                    # 이미지에 바운딩 박스를 그립니다.\n",
    "                    cv2.rectangle(image, (x_min, y_min), (x_max, y_max), (255, 0, 0), 2)\n",
    "            \n",
    "            # 이미지를 화면에 표시합니다.\n",
    "            plt.imshow(cv2.cvtColor(image, cv2.COLOR_BGR2RGB))\n",
    "            plt.show()\n"
   ]
  },
  {
   "cell_type": "code",
   "execution_count": null,
   "id": "a9c1d216",
   "metadata": {},
   "outputs": [],
   "source": []
  },
  {
   "cell_type": "code",
   "execution_count": null,
   "id": "b0de9f99",
   "metadata": {},
   "outputs": [],
   "source": []
  },
  {
   "cell_type": "code",
   "execution_count": null,
   "id": "a9f2693c",
   "metadata": {},
   "outputs": [],
   "source": []
  },
  {
   "cell_type": "code",
   "execution_count": null,
   "id": "1e9b6ea6",
   "metadata": {},
   "outputs": [],
   "source": []
  }
 ],
 "metadata": {
  "hide_input": false,
  "kernelspec": {
   "display_name": "Python 3 (ipykernel)",
   "language": "python",
   "name": "python3"
  },
  "language_info": {
   "codemirror_mode": {
    "name": "ipython",
    "version": 3
   },
   "file_extension": ".py",
   "mimetype": "text/x-python",
   "name": "python",
   "nbconvert_exporter": "python",
   "pygments_lexer": "ipython3",
   "version": "3.9.18"
  }
 },
 "nbformat": 4,
 "nbformat_minor": 5
}
